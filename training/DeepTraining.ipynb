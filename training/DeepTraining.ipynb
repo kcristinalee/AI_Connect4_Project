{
 "cells": [
  {
   "cell_type": "markdown",
   "metadata": {
    "id": "zev5aClwAkLT",
    "pycharm": {
     "name": "#%% md\n"
    }
   },
   "source": [
    "# Deep-Q Neural Network Training\n",
    "\n",
    "This notebook contains the code for training the deep neural network to represent the Connect-4 Q function. This comes after the Q-learning step, and uses the saved policy as training data to model a global Q function for any state."
   ]
  },
  {
   "cell_type": "markdown",
   "metadata": {
    "pycharm": {
     "name": "#%% md\n"
    }
   },
   "source": [
    "# Setup"
   ]
  },
  {
   "cell_type": "markdown",
   "metadata": {
    "pycharm": {
     "name": "#%% md\n"
    }
   },
   "source": [
    "**Include Dependencies:**"
   ]
  },
  {
   "cell_type": "code",
   "execution_count": 34,
   "metadata": {
    "id": "YxrvOTNwaTDF",
    "pycharm": {
     "name": "#%%\n"
    }
   },
   "outputs": [],
   "source": [
    "import pickle\n",
    "import numpy as np\n",
    "import torch\n",
    "import torch.nn as nn\n",
    "from torch.utils.data import Dataset, DataLoader\n",
    "import torch.nn.functional as F\n",
    "import matplotlib.pyplot as plt\n",
    "from sklearn.model_selection import train_test_split\n",
    "from torcheval.metrics import MeanSquaredError\n",
    "from torcheval.metrics import R2Score"
   ]
  },
  {
   "cell_type": "markdown",
   "metadata": {
    "pycharm": {
     "name": "#%% md\n"
    }
   },
   "source": [
    "**Define Constants:**"
   ]
  },
  {
   "cell_type": "code",
   "execution_count": 3,
   "metadata": {
    "id": "wEAbD5z4-Y-4",
    "pycharm": {
     "name": "#%%\n"
    }
   },
   "outputs": [],
   "source": [
    "BOARD_ROWS = 7\n",
    "BOARD_COLS = 8"
   ]
  },
  {
   "cell_type": "code",
   "execution_count": 4,
   "metadata": {
    "pycharm": {
     "name": "#%%\n"
    }
   },
   "outputs": [],
   "source": [
    "# SET TO THE NAME OF THE GENERATED POLICY FILE\n",
    "POLICY_NAME = 'policy'"
   ]
  },
  {
   "cell_type": "markdown",
   "metadata": {
    "id": "ZFwV6kVCcthH",
    "pycharm": {
     "name": "#%% md\n"
    }
   },
   "source": [
    "# Data Loading / Preprocessing"
   ]
  },
  {
   "cell_type": "markdown",
   "metadata": {
    "pycharm": {
     "name": "#%% md\n"
    }
   },
   "source": [
    "Define functions to load a policy file and reconstruct matrices from hashes."
   ]
  },
  {
   "cell_type": "code",
   "execution_count": 5,
   "metadata": {
    "id": "5QfJS_N2ZwVe",
    "pycharm": {
     "name": "#%%\n"
    }
   },
   "outputs": [],
   "source": [
    "def loadPolicy(file):\n",
    "  fr = open(file, 'rb')\n",
    "  states_value = pickle.load(fr)\n",
    "  fr.close()\n",
    "\n",
    "  return states_value\n",
    "\n",
    "def decode_hash(string):\n",
    "  elts = string.strip('[]').split()\n",
    "  elts = [int(x) for x in elts]\n",
    "\n",
    "  arr = np.array(elts)\n",
    "  arr = arr.reshape((BOARD_ROWS, BOARD_COLS))\n",
    "\n",
    "  return arr"
   ]
  },
  {
   "cell_type": "markdown",
   "metadata": {
    "pycharm": {
     "name": "#%% md\n"
    }
   },
   "source": [
    "Change structure of Q table to be X/Y pairs. Create train/val split."
   ]
  },
  {
   "cell_type": "code",
   "execution_count": 6,
   "metadata": {
    "colab": {
     "base_uri": "https://localhost:8080/"
    },
    "id": "OeglVT68aZma",
    "outputId": "0b5dcd45-5c3c-42e6-a490-fc6ea4174b49",
    "pycharm": {
     "name": "#%%\n"
    }
   },
   "outputs": [
    {
     "data": {
      "text/plain": [
       "128886"
      ]
     },
     "execution_count": 6,
     "metadata": {},
     "output_type": "execute_result"
    }
   ],
   "source": [
    "states_value = loadPolicy(POLICY_NAME)\n",
    "X_all, Y_all = np.array(list(states_value.keys())), np.array(list(states_value.values()))\n",
    "\n",
    "num_zeros = np.sum(Y_all == 0, axis=1)\n",
    "mask = num_zeros <= 1\n",
    "\n",
    "X_all, Y_all = X_all[mask], Y_all[mask]\n",
    "\n",
    "X_train, X_val, Y_train, Y_val = train_test_split(X_all, Y_all, test_size=0.15)\n",
    "\n",
    "len(Y_all)"
   ]
  },
  {
   "cell_type": "markdown",
   "metadata": {
    "pycharm": {
     "name": "#%% md\n"
    }
   },
   "source": [
    "Define Torch Dataset class."
   ]
  },
  {
   "cell_type": "code",
   "execution_count": 7,
   "metadata": {
    "id": "zDVRkg60_RzU",
    "pycharm": {
     "name": "#%%\n"
    }
   },
   "outputs": [],
   "source": [
    "class PolicyDataset(Dataset):\n",
    "  data_map = {\n",
    "    'train': (X_train, Y_train),\n",
    "    'val': (X_val, Y_val),\n",
    "  }\n",
    "\n",
    "  def __init__(self, mode='train'):\n",
    "    self.mode = mode\n",
    "\n",
    "  def __len__(self):\n",
    "    return len(self.data_map[self.mode][0])\n",
    "\n",
    "  def __getitem__(self, idx):\n",
    "    board_hash = self.data_map[self.mode][0][idx]\n",
    "\n",
    "    item = torch.tensor(decode_hash(board_hash))\n",
    "    label = self.data_map[self.mode][1][idx]\n",
    "\n",
    "    return item, label"
   ]
  },
  {
   "cell_type": "markdown",
   "metadata": {
    "pycharm": {
     "name": "#%% md\n"
    }
   },
   "source": [
    "# Neural Network\n",
    "Training, evaluating, and saving the neural network."
   ]
  },
  {
   "cell_type": "markdown",
   "metadata": {
    "pycharm": {
     "name": "#%% md\n"
    }
   },
   "source": [
    "## Definition"
   ]
  },
  {
   "cell_type": "code",
   "execution_count": 22,
   "metadata": {
    "id": "ob7D55NkCk8t",
    "pycharm": {
     "name": "#%%\n"
    }
   },
   "outputs": [],
   "source": [
    "class ConnectNet(nn.Module):\n",
    "    def __init__(self, h1_size, h2_size, dropout_p):\n",
    "      super(ConnectNet, self).__init__()\n",
    "\n",
    "      self.conv1 = nn.Conv2d(1, 32, kernel_size=3, padding=1)\n",
    "      self.conv2 = nn.Conv2d(32, 64, kernel_size=3, padding=1)\n",
    "      self.conv3 = nn.Conv2d(64, 128, kernel_size=3, padding=1)\n",
    "      self.conv4 = nn.Conv2d(128, 256, kernel_size=3, padding=1)\n",
    "\n",
    "      self.dropout1 = nn.Dropout2d(p=dropout_p)\n",
    "\n",
    "      self.FLATTENED_SIZE = 256 * 7 * 8\n",
    "\n",
    "      self.fc1 = nn.Linear(self.FLATTENED_SIZE, h1_size)\n",
    "\n",
    "      self.dropout2 = nn.Dropout(p=dropout_p) \n",
    "\n",
    "      self.fc2 = nn.Linear(h1_size, h2_size)\n",
    "      self.fc3 = nn.Linear(h2_size, 8)\n",
    "\n",
    "    def forward(self, x):\n",
    "      x = x.unsqueeze(1)\n",
    "\n",
    "      x = F.relu(self.conv1(x))\n",
    "      x = F.relu(self.conv2(x))\n",
    "      x = F.relu(self.conv3(x))\n",
    "      x = F.relu(self.conv4(x))\n",
    "\n",
    "      x = self.dropout1(x)\n",
    "\n",
    "      x = x.view(-1, self.FLATTENED_SIZE)\n",
    "\n",
    "      x = F.relu(self.fc1(x))\n",
    "      x = self.dropout2(x)\n",
    "\n",
    "      x = F.relu(self.fc2(x))\n",
    "      x = self.fc3(x)\n",
    "\n",
    "      return x"
   ]
  },
  {
   "cell_type": "markdown",
   "metadata": {
    "pycharm": {
     "name": "#%% md\n"
    }
   },
   "source": [
    "## Training"
   ]
  },
  {
   "cell_type": "code",
   "execution_count": 26,
   "metadata": {
    "id": "Qf5t_NCPDMdL",
    "pycharm": {
     "name": "#%%\n"
    }
   },
   "outputs": [],
   "source": [
    "learning_rate = 0.001\n",
    "batch_size = 2056\n",
    "num_epochs = 50\n",
    "\n",
    "hidden1_size = 128\n",
    "hidden2_size = 64\n",
    "\n",
    "dropout_p = 0.15"
   ]
  },
  {
   "cell_type": "code",
   "execution_count": 27,
   "metadata": {
    "colab": {
     "base_uri": "https://localhost:8080/",
     "height": 1000
    },
    "id": "GiYPEUH-Do5_",
    "outputId": "b7e530be-3e9e-44d8-fc7a-a332c0b1daaa",
    "pycharm": {
     "name": "#%%\n"
    }
   },
   "outputs": [
    {
     "name": "stdout",
     "output_type": "stream",
     "text": [
      "Started training on cuda\n",
      "Epoch : 0, Train loss: 1.3092761293605522, Val loss: 1.350435216559304\n",
      "Epoch : 1, Train loss: 1.2547036939197116, Val loss: 1.2971353791378162\n",
      "Epoch : 2, Train loss: 1.2088522922109675, Val loss: 1.2653673476643033\n",
      "Epoch : 3, Train loss: 1.1659331222375233, Val loss: 1.2087747755977842\n",
      "Epoch : 4, Train loss: 1.0455719740302474, Val loss: 1.0722330459841976\n",
      "Epoch : 5, Train loss: 1.00311157990385, Val loss: 1.0460468415860777\n",
      "Epoch : 6, Train loss: 0.9292074927577266, Val loss: 0.983268897290583\n",
      "Epoch : 7, Train loss: 0.8751041315220021, Val loss: 0.9352186016462467\n",
      "Epoch : 8, Train loss: 0.87185948866385, Val loss: 0.9298723447102087\n",
      "Epoch : 9, Train loss: 0.8355749392950976, Val loss: 0.8974766136319549\n",
      "Epoch : 10, Train loss: 0.8166882318479044, Val loss: 0.8779460742517754\n",
      "Epoch : 11, Train loss: 0.7874545079690439, Val loss: 0.848816270408807\n",
      "Epoch : 12, Train loss: 0.7849935524993472, Val loss: 0.8476607352495193\n",
      "Epoch : 13, Train loss: 0.7614364944122456, Val loss: 0.8236137562327914\n",
      "Epoch : 14, Train loss: 0.7498100366857317, Val loss: 0.8254333987280175\n",
      "Epoch : 15, Train loss: 0.7414234402003111, Val loss: 0.8023789256811142\n",
      "Epoch : 16, Train loss: 0.7265453923631597, Val loss: 0.7938291034212819\n",
      "Epoch : 17, Train loss: 0.7217832715423019, Val loss: 0.7863705379543481\n",
      "Epoch : 18, Train loss: 0.7022127089677034, Val loss: 0.7676459141351558\n",
      "Epoch : 19, Train loss: 0.6987651277471472, Val loss: 0.7795519406044925\n",
      "Epoch : 20, Train loss: 0.6943322320779165, Val loss: 0.7787289144816222\n",
      "Epoch : 21, Train loss: 0.6845069913952438, Val loss: 0.7645323854905588\n",
      "Epoch : 22, Train loss: 0.6697046458721161, Val loss: 0.7594603219517955\n",
      "Epoch : 23, Train loss: 0.6683924192631686, Val loss: 0.76087246382678\n",
      "Epoch : 24, Train loss: 0.6613995885407483, Val loss: 0.7550923534013607\n",
      "Epoch : 25, Train loss: 0.6608301412176203, Val loss: 0.7552157984287651\n",
      "Epoch : 26, Train loss: 0.6618792955522184, Val loss: 0.7581630171449096\n",
      "Epoch : 27, Train loss: 0.6544234189722273, Val loss: 0.7510175910260942\n",
      "Epoch : 28, Train loss: 0.6413855298801705, Val loss: 0.746510131822692\n",
      "Epoch : 29, Train loss: 0.6343924403190613, Val loss: 0.74310763704556\n",
      "Epoch : 30, Train loss: 0.6318362851937612, Val loss: 0.7458563006034604\n",
      "Epoch : 31, Train loss: 0.6290300019361355, Val loss: 0.7443205896902967\n",
      "Epoch : 32, Train loss: 0.6250150799751282, Val loss: 0.743276088712392\n",
      "Epoch : 33, Train loss: 0.6186898593549375, Val loss: 0.7432239283566122\n",
      "Epoch : 34, Train loss: 0.6134237238654384, Val loss: 0.7433980876648868\n",
      "Epoch : 35, Train loss: 0.6142122453009641, Val loss: 0.742170307316162\n",
      "Epoch : 36, Train loss: 0.6129288927272514, Val loss: 0.7462713126783018\n",
      "Epoch : 37, Train loss: 0.61923254971151, Val loss: 0.7559000429179933\n",
      "Epoch : 38, Train loss: 0.5987409231839357, Val loss: 0.7378681990283507\n",
      "Epoch : 39, Train loss: 0.5971279734814608, Val loss: 0.7442668562134107\n",
      "Epoch : 40, Train loss: 0.5855750209755368, Val loss: 0.7381147917773988\n",
      "Epoch : 41, Train loss: 0.579688729511367, Val loss: 0.7394561532470915\n",
      "Epoch : 42, Train loss: 0.5804481252476021, Val loss: 0.7436435202205622\n",
      "Epoch : 43, Train loss: 0.5748756605165976, Val loss: 0.738868984359282\n",
      "Epoch : 44, Train loss: 0.5693664357618049, Val loss: 0.7442391992719085\n",
      "Epoch : 45, Train loss: 0.5680098605376703, Val loss: 0.7477386939304846\n",
      "Epoch : 46, Train loss: 0.5628754066096412, Val loss: 0.7558074701715398\n",
      "Epoch : 47, Train loss: 0.557503784696261, Val loss: 0.7495552545896282\n",
      "Epoch : 48, Train loss: 0.5496705466950381, Val loss: 0.7433085091688015\n",
      "Epoch : 49, Train loss: 0.5440397803430204, Val loss: 0.7486691652624695\n",
      "Done training.\n"
     ]
    }
   ],
   "source": [
    "train_set = PolicyDataset(mode='train')\n",
    "val_set = PolicyDataset(mode='val')\n",
    "\n",
    "train_dataloader = DataLoader(train_set, batch_size=batch_size, shuffle=True)\n",
    "val_dataloader = DataLoader(val_set, batch_size=batch_size, shuffle=True)\n",
    "\n",
    "device = torch.device(\"cuda\" if torch.cuda.is_available() else \"cpu\")\n",
    "\n",
    "# Training Model\n",
    "model = ConnectNet(hidden1_size, hidden2_size, dropout_p)\n",
    "model = model.to(device)\n",
    "\n",
    "optim = torch.optim.Adam(model.parameters(), lr=learning_rate)\n",
    "loss_function = nn.MSELoss()\n",
    "\n",
    "print(f'Started training on {device}')\n",
    "\n",
    "train_loss_epochs = []\n",
    "val_loss_epochs = []\n",
    "\n",
    "for epoch in range(num_epochs):\n",
    "  model.train()\n",
    "  train_loss = []\n",
    "  val_loss = []\n",
    "\n",
    "  for idx, batch in enumerate(train_dataloader):\n",
    "    inputs, labels = batch\n",
    "    inputs, labels = inputs.to(device), labels.to(device)\n",
    "    inputs, labels = inputs.to(torch.float32), labels.to(torch.float32)\n",
    "\n",
    "    output = model(inputs)\n",
    "    output = output.squeeze(1)\n",
    "\n",
    "    loss = loss_function(output, labels)\n",
    "\n",
    "    optim.zero_grad()\n",
    "    loss.backward()\n",
    "    optim.step()\n",
    "\n",
    "    train_loss.append(loss.item())\n",
    "\n",
    "    model.eval()\n",
    "    for idx, batch in enumerate(val_dataloader):\n",
    "        with torch.no_grad():\n",
    "          inputs, labels = batch\n",
    "          inputs, labels = inputs.to(device), labels.to(device)\n",
    "          inputs, labels = inputs.to(torch.float32), labels.to(torch.float32)\n",
    "\n",
    "          output = model(inputs)\n",
    "          output = output.squeeze(1)\n",
    "\n",
    "          loss = loss_function(output, labels)\n",
    "\n",
    "          val_loss.append(loss.item())\n",
    "\n",
    "  train_loss_epochs.append(np.mean(train_loss))\n",
    "  val_loss_epochs.append(np.mean(val_loss))\n",
    "  print(\"Epoch : {}, Train loss: {}, Val loss: {}\".format(epoch, np.mean(train_loss), np.mean(val_loss)))\n",
    "\n",
    "\n",
    "print('Done training.')"
   ]
  },
  {
   "cell_type": "markdown",
   "metadata": {
    "pycharm": {
     "name": "#%% md\n"
    }
   },
   "source": [
    "## Evaluation"
   ]
  },
  {
   "cell_type": "code",
   "execution_count": 28,
   "metadata": {
    "pycharm": {
     "name": "#%%\n"
    }
   },
   "outputs": [
    {
     "data": {
      "image/png": "[encoded data removed]",
      "text/plain": [
       "<Figure size 640x480 with 1 Axes>"
      ]
     },
     "metadata": {},
     "output_type": "display_data"
    }
   ],
   "source": [
    "plt.plot(np.squeeze(train_loss_epochs), label='training')\n",
    "plt.plot(np.squeeze(val_loss_epochs), label='validation')\n",
    "plt.ylabel('loss')\n",
    "plt.xlabel('epoch')\n",
    "plt.title('Loss per Epoch')\n",
    "plt.legend(loc='best')\n",
    "\n",
    "plt.show()"
   ]
  },
  {
   "cell_type": "code",
   "execution_count": null,
   "metadata": {
    "pycharm": {
     "name": "#%%\n"
    }
   },
   "outputs": [],
   "source": [
    "model.eval()\n",
    "model.to('cpu')"
   ]
  },
  {
   "cell_type": "code",
   "execution_count": 33,
   "metadata": {
    "pycharm": {
     "name": "#%%\n"
    }
   },
   "outputs": [],
   "source": [
    "def calc_torch_metric(metric_class, **kwargs):\n",
    "    train_result, val_result = None, None\n",
    "\n",
    "    train_all_loader = DataLoader(train_set, batch_size=len(Y_train), shuffle=False)\n",
    "    val_all_loader = DataLoader(val_set, batch_size=len(Y_val), shuffle=False)\n",
    "\n",
    "    train_X, train_Y = next(iter(train_all_loader))\n",
    "    train_X, train_Y = train_X.to(torch.float32), train_Y.to(torch.float32)\n",
    "    train_Y_hat = model(train_X)\n",
    "\n",
    "    metric = metric_class(**kwargs)\n",
    "\n",
    "    metric.update(train_Y_hat, train_Y)\n",
    "    train_result = metric.compute()\n",
    "\n",
    "    val_X, val_Y = next(iter(val_all_loader))\n",
    "    val_X, val_Y = val_X.to(torch.float32), val_Y.to(torch.float32)\n",
    "    val_Y_hat = model(val_X)\n",
    "\n",
    "    metric.update(val_Y_hat, val_Y)\n",
    "    val_result = metric.compute()\n",
    "\n",
    "    return train_result, val_result"
   ]
  },
  {
   "cell_type": "code",
   "execution_count": 35,
   "metadata": {
    "pycharm": {
     "name": "#%%\n"
    }
   },
   "outputs": [
    {
     "name": "stdout",
     "output_type": "stream",
     "text": [
      "Train MSE:  0.5444692373275757\n",
      "Val MSE:  0.5776267647743225\n"
     ]
    }
   ],
   "source": [
    "train_mse, val_mse = calc_torch_metric(MeanSquaredError)\n",
    "print('Train MSE: ', train_mse.item())\n",
    "print('Val MSE: ', val_mse.item())"
   ]
  },
  {
   "cell_type": "code",
   "execution_count": 36,
   "metadata": {
    "pycharm": {
     "name": "#%%\n"
    }
   },
   "outputs": [
    {
     "name": "stdout",
     "output_type": "stream",
     "text": [
      "Train R2:  0.5856567025184631\n",
      "Val R2:  0.5628010034561157\n",
      "Train R:  0.7652821064930652\n",
      "Val R:  0.7502006421325669\n"
     ]
    }
   ],
   "source": [
    "train_r2, val_r2 = calc_torch_metric(R2Score)\n",
    "print('Train R2: ', train_r2.item())\n",
    "print('Val R2: ', val_r2.item())\n",
    "\n",
    "print('Train R: ', train_r2.item() ** 0.5)\n",
    "print('Val R: ', val_r2.item() ** 0.5)"
   ]
  },
  {
   "cell_type": "markdown",
   "metadata": {
    "id": "rxLIzj6HmVOu",
    "pycharm": {
     "name": "#%% md\n"
    }
   },
   "source": [
    "## Save Model\n",
    "Saving the learned weights."
   ]
  },
  {
   "cell_type": "code",
   "execution_count": 14,
   "metadata": {
    "id": "luh7jxswmS6n",
    "pycharm": {
     "name": "#%%\n"
    }
   },
   "outputs": [],
   "source": [
    "torch.save(model.state_dict(), '../model.pt')"
   ]
  }
 ],
 "metadata": {
  "accelerator": "GPU",
  "colab": {
   "gpuType": "T4",
   "provenance": []
  },
  "kernelspec": {
   "display_name": "Python 3 (ipykernel)",
   "language": "python",
   "name": "python3"
  },
  "language_info": {
   "codemirror_mode": {
    "name": "ipython",
    "version": 3
   },
   "file_extension": ".py",
   "mimetype": "text/x-python",
   "name": "python",
   "nbconvert_exporter": "python",
   "pygments_lexer": "ipython3",
   "version": "3.12.2"
  }
 },
 "nbformat": 4,
 "nbformat_minor": 4
}